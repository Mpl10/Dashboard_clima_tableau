{
 "cells": [
  {
   "cell_type": "code",
   "execution_count": 533,
   "metadata": {},
   "outputs": [],
   "source": [
    "import pandas as pd\n",
    "import numpy as np\n",
    "import datetime\n"
   ]
  },
  {
   "cell_type": "code",
   "execution_count": 271,
   "metadata": {},
   "outputs": [],
   "source": [
    "geoloca=Nominatim(user_agent=\"miriam\")"
   ]
  },
  {
   "cell_type": "code",
   "execution_count": 517,
   "metadata": {},
   "outputs": [],
   "source": [
    "df_clima= pd.read_csv(\"Data/AEMET_2000-2023.csv\")"
   ]
  },
  {
   "attachments": {},
   "cell_type": "markdown",
   "metadata": {},
   "source": [
    "### Limpieza datos climáticos"
   ]
  },
  {
   "attachments": {},
   "cell_type": "markdown",
   "metadata": {},
   "source": [
    "La limpieza de datos se basa en eliminar aquellas columnas que no serán objeto de estudio y hacer cambios de formato en las restantes."
   ]
  },
  {
   "cell_type": "code",
   "execution_count": 520,
   "metadata": {},
   "outputs": [
    {
     "data": {
      "text/html": [
       "<div>\n",
       "<style scoped>\n",
       "    .dataframe tbody tr th:only-of-type {\n",
       "        vertical-align: middle;\n",
       "    }\n",
       "\n",
       "    .dataframe tbody tr th {\n",
       "        vertical-align: top;\n",
       "    }\n",
       "\n",
       "    .dataframe thead th {\n",
       "        text-align: right;\n",
       "    }\n",
       "</style>\n",
       "<table border=\"1\" class=\"dataframe\">\n",
       "  <thead>\n",
       "    <tr style=\"text-align: right;\">\n",
       "      <th></th>\n",
       "      <th>fecha</th>\n",
       "      <th>indicativo</th>\n",
       "      <th>nombre</th>\n",
       "      <th>provincia</th>\n",
       "      <th>altitud</th>\n",
       "      <th>tmed</th>\n",
       "      <th>prec</th>\n",
       "      <th>tmin</th>\n",
       "      <th>horatmin</th>\n",
       "      <th>tmax</th>\n",
       "      <th>horatmax</th>\n",
       "    </tr>\n",
       "  </thead>\n",
       "  <tbody>\n",
       "    <tr>\n",
       "      <th>0</th>\n",
       "      <td>2000-01-01</td>\n",
       "      <td>4358X</td>\n",
       "      <td>DON BENITO</td>\n",
       "      <td>BADAJOZ</td>\n",
       "      <td>273</td>\n",
       "      <td>6.0</td>\n",
       "      <td>0.0</td>\n",
       "      <td>-0.6</td>\n",
       "      <td>07:35</td>\n",
       "      <td>12.5</td>\n",
       "      <td>14:30</td>\n",
       "    </tr>\n",
       "    <tr>\n",
       "      <th>1</th>\n",
       "      <td>2000-01-01</td>\n",
       "      <td>C447A</td>\n",
       "      <td>TENERIFE NORTE AEROPUERTO</td>\n",
       "      <td>STA. CRUZ DE TENERIFE</td>\n",
       "      <td>632</td>\n",
       "      <td>13.6</td>\n",
       "      <td>0.0</td>\n",
       "      <td>10.8</td>\n",
       "      <td>Varias</td>\n",
       "      <td>16.4</td>\n",
       "      <td>Varias</td>\n",
       "    </tr>\n",
       "    <tr>\n",
       "      <th>2</th>\n",
       "      <td>2000-01-01</td>\n",
       "      <td>4410X</td>\n",
       "      <td>MÉRIDA</td>\n",
       "      <td>BADAJOZ</td>\n",
       "      <td>228</td>\n",
       "      <td>7.4</td>\n",
       "      <td>0.0</td>\n",
       "      <td>0.0</td>\n",
       "      <td>06:20</td>\n",
       "      <td>14.9</td>\n",
       "      <td>16:10</td>\n",
       "    </tr>\n",
       "    <tr>\n",
       "      <th>3</th>\n",
       "      <td>2000-01-01</td>\n",
       "      <td>1690A</td>\n",
       "      <td>OURENSE</td>\n",
       "      <td>OURENSE</td>\n",
       "      <td>143</td>\n",
       "      <td>3.2</td>\n",
       "      <td>0.0</td>\n",
       "      <td>-2.4</td>\n",
       "      <td>08:45</td>\n",
       "      <td>8.8</td>\n",
       "      <td>16:25</td>\n",
       "    </tr>\n",
       "    <tr>\n",
       "      <th>4</th>\n",
       "      <td>2000-01-01</td>\n",
       "      <td>0002I</td>\n",
       "      <td>VANDELLÒS</td>\n",
       "      <td>TARRAGONA</td>\n",
       "      <td>32</td>\n",
       "      <td>NaN</td>\n",
       "      <td>NaN</td>\n",
       "      <td>NaN</td>\n",
       "      <td>NaN</td>\n",
       "      <td>NaN</td>\n",
       "      <td>NaN</td>\n",
       "    </tr>\n",
       "  </tbody>\n",
       "</table>\n",
       "</div>"
      ],
      "text/plain": [
       "        fecha indicativo                     nombre              provincia  \\\n",
       "0  2000-01-01      4358X                 DON BENITO                BADAJOZ   \n",
       "1  2000-01-01      C447A  TENERIFE NORTE AEROPUERTO  STA. CRUZ DE TENERIFE   \n",
       "2  2000-01-01      4410X                     MÉRIDA                BADAJOZ   \n",
       "3  2000-01-01      1690A                    OURENSE                OURENSE   \n",
       "4  2000-01-01      0002I                VANDELLÒS                TARRAGONA   \n",
       "\n",
       "   altitud  tmed prec  tmin horatmin  tmax horatmax  \n",
       "0      273   6.0  0.0  -0.6    07:35  12.5    14:30  \n",
       "1      632  13.6  0.0  10.8   Varias  16.4   Varias  \n",
       "2      228   7.4  0.0   0.0    06:20  14.9    16:10  \n",
       "3      143   3.2  0.0  -2.4    08:45   8.8    16:25  \n",
       "4       32   NaN  NaN   NaN      NaN   NaN      NaN  "
      ]
     },
     "execution_count": 520,
     "metadata": {},
     "output_type": "execute_result"
    }
   ],
   "source": [
    "df_clima.head(5)"
   ]
  },
  {
   "cell_type": "code",
   "execution_count": 515,
   "metadata": {},
   "outputs": [
    {
     "data": {
      "text/plain": [
       "fecha              0\n",
       "indicativo         0\n",
       "nombre             0\n",
       "provincia          0\n",
       "altitud            0\n",
       "tmed           73033\n",
       "prec           74694\n",
       "tmin           72649\n",
       "horatmin      104493\n",
       "tmax           72037\n",
       "horatmax      102260\n",
       "dtype: int64"
      ]
     },
     "execution_count": 515,
     "metadata": {},
     "output_type": "execute_result"
    }
   ],
   "source": [
    "df_clima.isnull().sum()"
   ]
  },
  {
   "cell_type": "code",
   "execution_count": 518,
   "metadata": {},
   "outputs": [],
   "source": [
    "borrado_columnas=['sol','presMax','horaPresMax','presMin','horaPresMin',\"velmedia\",\"racha\",\"horaracha\",\"dir\"]\n",
    "df_clima.drop(borrado_columnas, axis=1, inplace=True)"
   ]
  },
  {
   "cell_type": "code",
   "execution_count": 519,
   "metadata": {},
   "outputs": [],
   "source": [
    "reemplazo_coma=[\"tmed\",\"prec\",\"tmin\",\"tmax\"]\t\n",
    "\n",
    "for col in reemplazo_coma:\n",
    "    df_clima[col]=df_clima[col].str.replace(\",\",\".\")"
   ]
  },
  {
   "cell_type": "code",
   "execution_count": 521,
   "metadata": {},
   "outputs": [],
   "source": [
    "df_clima[\"fecha\"]=pd.to_datetime(df_clima[\"fecha\"])\n",
    "df_clima[\"prec\"] = pd.to_numeric(df_clima[\"prec\"], 'coerce')"
   ]
  },
  {
   "cell_type": "code",
   "execution_count": null,
   "metadata": {},
   "outputs": [],
   "source": [
    "df_clima.to_csv('Data/CLIMA_2000_2023_COMPLETO.csv', index = False)"
   ]
  }
 ],
 "metadata": {
  "kernelspec": {
   "display_name": "Python 3",
   "language": "python",
   "name": "python3"
  },
  "language_info": {
   "codemirror_mode": {
    "name": "ipython",
    "version": 3
   },
   "file_extension": ".py",
   "mimetype": "text/x-python",
   "name": "python",
   "nbconvert_exporter": "python",
   "pygments_lexer": "ipython3",
   "version": "3.9.12 (main, Apr  4 2022, 05:22:27) [MSC v.1916 64 bit (AMD64)]"
  },
  "orig_nbformat": 4,
  "vscode": {
   "interpreter": {
    "hash": "1277e85fe6f9c410318b7e83884dd57c4ab3de7df8d2580abfb17d5362efeff9"
   }
  }
 },
 "nbformat": 4,
 "nbformat_minor": 2
}
